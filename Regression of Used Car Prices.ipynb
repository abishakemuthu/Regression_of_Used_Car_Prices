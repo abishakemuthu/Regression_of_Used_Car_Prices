{
 "cells": [
  {
   "cell_type": "markdown",
   "id": "8cc1b235",
   "metadata": {},
   "source": [
    "### Import required Libraries"
   ]
  },
  {
   "cell_type": "code",
   "execution_count": 1,
   "id": "bf2f68a4",
   "metadata": {},
   "outputs": [],
   "source": [
    "import numpy as np\n",
    "import pandas as pd\n",
    "import seaborn as sns\n",
    "import matplotlib.pyplot as plt\n",
    "\n",
    "pd.set_option('display.max_columns',50)\n",
    "\n",
    "import warnings\n",
    "warnings.filterwarnings(action='ignore')"
   ]
  },
  {
   "cell_type": "markdown",
   "id": "c4743106",
   "metadata": {},
   "source": [
    "### Import data"
   ]
  },
  {
   "cell_type": "code",
   "execution_count": 2,
   "id": "5bb7d002",
   "metadata": {},
   "outputs": [
    {
     "data": {
      "text/plain": [
       "(188533, 12)"
      ]
     },
     "execution_count": 2,
     "metadata": {},
     "output_type": "execute_result"
    }
   ],
   "source": [
    "train = pd.read_csv('train.csv',index_col=0)\n",
    "train.shape"
   ]
  },
  {
   "cell_type": "code",
   "execution_count": 3,
   "id": "63704039",
   "metadata": {},
   "outputs": [
    {
     "data": {
      "text/plain": [
       "(125690, 11)"
      ]
     },
     "execution_count": 3,
     "metadata": {},
     "output_type": "execute_result"
    }
   ],
   "source": [
    "test = pd.read_csv('test.csv',index_col=0)\n",
    "test.shape"
   ]
  },
  {
   "cell_type": "code",
   "execution_count": 4,
   "id": "a8ab1877",
   "metadata": {},
   "outputs": [],
   "source": [
    "df = pd.concat([train,test],axis=0)"
   ]
  },
  {
   "cell_type": "code",
   "execution_count": 5,
   "id": "9eb019dd",
   "metadata": {},
   "outputs": [
    {
     "data": {
      "text/plain": [
       "0"
      ]
     },
     "execution_count": 5,
     "metadata": {},
     "output_type": "execute_result"
    }
   ],
   "source": [
    "df.duplicated().sum()"
   ]
  },
  {
   "cell_type": "code",
   "execution_count": 6,
   "id": "9c7837a7",
   "metadata": {},
   "outputs": [
    {
     "name": "stdout",
     "output_type": "stream",
     "text": [
      "<class 'pandas.core.frame.DataFrame'>\n",
      "Index: 314223 entries, 0 to 314222\n",
      "Data columns (total 12 columns):\n",
      " #   Column        Non-Null Count   Dtype  \n",
      "---  ------        --------------   -----  \n",
      " 0   brand         314223 non-null  object \n",
      " 1   model         314223 non-null  object \n",
      " 2   model_year    314223 non-null  int64  \n",
      " 3   milage        314223 non-null  int64  \n",
      " 4   fuel_type     305757 non-null  object \n",
      " 5   engine        314223 non-null  object \n",
      " 6   transmission  314223 non-null  object \n",
      " 7   ext_col       314223 non-null  object \n",
      " 8   int_col       314223 non-null  object \n",
      " 9   accident      310139 non-null  object \n",
      " 10  clean_title   278565 non-null  object \n",
      " 11  price         188533 non-null  float64\n",
      "dtypes: float64(1), int64(2), object(9)\n",
      "memory usage: 31.2+ MB\n"
     ]
    }
   ],
   "source": [
    "df.info()"
   ]
  },
  {
   "cell_type": "code",
   "execution_count": 7,
   "id": "ace17b4a",
   "metadata": {},
   "outputs": [
    {
     "data": {
      "text/plain": [
       "brand                0\n",
       "model                0\n",
       "model_year           0\n",
       "milage               0\n",
       "fuel_type         8466\n",
       "engine               0\n",
       "transmission         0\n",
       "ext_col              0\n",
       "int_col              0\n",
       "accident          4084\n",
       "clean_title      35658\n",
       "price           125690\n",
       "dtype: int64"
      ]
     },
     "execution_count": 7,
     "metadata": {},
     "output_type": "execute_result"
    }
   ],
   "source": [
    "df.isna().sum()"
   ]
  },
  {
   "cell_type": "markdown",
   "id": "3fdfffd7",
   "metadata": {},
   "source": [
    "## Feature Engineering"
   ]
  },
  {
   "cell_type": "markdown",
   "id": "30141fc0",
   "metadata": {},
   "source": [
    "### Brand"
   ]
  },
  {
   "cell_type": "code",
   "execution_count": 8,
   "id": "495df491",
   "metadata": {},
   "outputs": [
    {
     "data": {
      "text/plain": [
       "brand\n",
       "Ford             38353\n",
       "Mercedes-Benz    32047\n",
       "BMW              28314\n",
       "Chevrolet        27033\n",
       "Audi             18176\n",
       "Porsche          17765\n",
       "Land             15873\n",
       "Toyota           14934\n",
       "Lexus            14372\n",
       "Jeep             10886\n",
       "Cadillac          7733\n",
       "RAM               7002\n",
       "Nissan            6604\n",
       "Tesla             6125\n",
       "INFINITI          5399\n",
       "GMC               5309\n",
       "Dodge             5204\n",
       "Mazda             4489\n",
       "Kia               4247\n",
       "Lincoln           4016\n",
       "Subaru            3972\n",
       "Acura             3849\n",
       "Honda             3537\n",
       "Hyundai           3353\n",
       "Volkswagen        2987\n",
       "Jaguar            2253\n",
       "Bentley           1944\n",
       "MINI              1761\n",
       "Genesis           1612\n",
       "Buick             1591\n",
       "Maserati          1558\n",
       "Lamborghini       1356\n",
       "Volvo             1299\n",
       "Chrysler          1241\n",
       "Alfa              1149\n",
       "Rivian             980\n",
       "Rolls-Royce        944\n",
       "Mitsubishi         918\n",
       "Pontiac            879\n",
       "Hummer             862\n",
       "Ferrari            610\n",
       "McLaren            408\n",
       "Aston              382\n",
       "Saturn             245\n",
       "Scion              182\n",
       "Lucid              111\n",
       "Mercury             96\n",
       "FIAT                81\n",
       "Lotus               71\n",
       "Saab                33\n",
       "Karma               27\n",
       "Plymouth            11\n",
       "Suzuki              10\n",
       "Bugatti             10\n",
       "Maybach             10\n",
       "Polestar             7\n",
       "smart                3\n",
       "Name: count, dtype: int64"
      ]
     },
     "execution_count": 8,
     "metadata": {},
     "output_type": "execute_result"
    }
   ],
   "source": [
    "df.brand.value_counts()"
   ]
  },
  {
   "cell_type": "code",
   "execution_count": 9,
   "id": "052a2630",
   "metadata": {},
   "outputs": [],
   "source": [
    "df = pd.concat([df,pd.get_dummies(df.brand,dtype='int')],axis=1)\n",
    "df.drop('brand',axis=1,inplace=True)"
   ]
  },
  {
   "cell_type": "markdown",
   "id": "5b623b08",
   "metadata": {},
   "source": [
    "### Model"
   ]
  },
  {
   "cell_type": "code",
   "execution_count": 10,
   "id": "70adf2c6",
   "metadata": {},
   "outputs": [
    {
     "data": {
      "text/plain": [
       "model\n",
       "F-150 XLT                   4868\n",
       "M3 Base                     3641\n",
       "Camaro 2SS                  2820\n",
       "M4 Base                     2627\n",
       "Mustang GT Premium          2464\n",
       "                            ... \n",
       "X5 xDrive40e                   2\n",
       "Forte LX                       2\n",
       "V60 T6 R-Design Platinum       2\n",
       "X5 3.0i                        1\n",
       "allroad 2.7T                   1\n",
       "Name: count, Length: 1898, dtype: int64"
      ]
     },
     "execution_count": 10,
     "metadata": {},
     "output_type": "execute_result"
    }
   ],
   "source": [
    "df.model.value_counts()"
   ]
  },
  {
   "cell_type": "code",
   "execution_count": 11,
   "id": "f7f21618",
   "metadata": {},
   "outputs": [],
   "source": [
    "model_list = list(df.model)\n",
    "\n",
    "d = {}\n",
    "for i in model_list:\n",
    "    if i not in d:\n",
    "        d[i] = 1\n",
    "    else:\n",
    "        d[i]+=1"
   ]
  },
  {
   "cell_type": "code",
   "execution_count": 12,
   "id": "ad7624f5",
   "metadata": {},
   "outputs": [],
   "source": [
    "model_value_counts = pd.DataFrame(set(df.model.value_counts().values))[0]\n",
    "\n",
    "q10 = model_value_counts.quantile(0.10)\n",
    "q20 = model_value_counts.quantile(0.20)\n",
    "q30 = model_value_counts.quantile(0.30)\n",
    "q40 = model_value_counts.quantile(0.40)\n",
    "q50 = model_value_counts.quantile(0.50)\n",
    "q60 = model_value_counts.quantile(0.60)\n",
    "q70 = model_value_counts.quantile(0.70)\n",
    "q80 = model_value_counts.quantile(0.80)\n",
    "q90 = model_value_counts.quantile(0.90)\n",
    "\n",
    "models = []\n",
    "for i in model_list:\n",
    "    if d[i] < q10:\n",
    "        models.append('model_1')\n",
    "    elif d[i] >= q10 and d[i] < q20:\n",
    "        models.append('model_2')\n",
    "    elif d[i] >= q20 and d[i] < q30:\n",
    "        models.append('model_3')\n",
    "    elif d[i] >= q30 and d[i] < q40:\n",
    "        models.append('model_4')\n",
    "    elif d[i] >= q40 and d[i] < q50:\n",
    "        models.append('model_5')\n",
    "    elif d[i] >= q50 and d[i] < q60:\n",
    "        models.append('model_6')\n",
    "    elif d[i] >= q60 and d[i] < q70:\n",
    "        models.append('model_7')\n",
    "    elif d[i] >= q70 and d[i] < q80:\n",
    "        models.append('model_8')\n",
    "    elif d[i] >= q80 and d[i] < q90:\n",
    "        models.append('model_9')\n",
    "    elif d[i] >= q90:\n",
    "        models.append('model_10')"
   ]
  },
  {
   "cell_type": "code",
   "execution_count": 13,
   "id": "7cf3d9ac",
   "metadata": {},
   "outputs": [],
   "source": [
    "df = pd.concat([df,pd.DataFrame(models,columns=['models'])],axis=1)\n",
    "df.drop('model',axis=1,inplace=True)"
   ]
  },
  {
   "cell_type": "code",
   "execution_count": 14,
   "id": "a72811ed",
   "metadata": {},
   "outputs": [],
   "source": [
    "df = pd.concat([df,pd.get_dummies(df.models,dtype='int')],axis=1)\n",
    "df.drop('models',axis=1,inplace=True)"
   ]
  },
  {
   "cell_type": "markdown",
   "id": "e63c522d",
   "metadata": {},
   "source": [
    "### Model Year"
   ]
  },
  {
   "cell_type": "code",
   "execution_count": 15,
   "id": "d785c255",
   "metadata": {},
   "outputs": [
    {
     "data": {
      "text/plain": [
       "model_year\n",
       "2021    30234\n",
       "2018    27559\n",
       "2020    26565\n",
       "2022    26163\n",
       "2019    25393\n",
       "2016    22758\n",
       "2017    21208\n",
       "2015    18925\n",
       "2023    14552\n",
       "2014    13964\n",
       "2013    11465\n",
       "2011    10497\n",
       "2012    10310\n",
       "2008     8534\n",
       "2007     8224\n",
       "2010     7038\n",
       "2005     5234\n",
       "2006     4722\n",
       "2009     4595\n",
       "2004     4183\n",
       "2003     3175\n",
       "2001     2583\n",
       "2002     2162\n",
       "1999      952\n",
       "2000      911\n",
       "1998      590\n",
       "1997      526\n",
       "1996      309\n",
       "2024      277\n",
       "1993      228\n",
       "1994      175\n",
       "1995      171\n",
       "1992       21\n",
       "1974       18\n",
       "1982        1\n",
       "1988        1\n",
       "Name: count, dtype: int64"
      ]
     },
     "execution_count": 15,
     "metadata": {},
     "output_type": "execute_result"
    }
   ],
   "source": [
    "df.model_year.value_counts()"
   ]
  },
  {
   "cell_type": "code",
   "execution_count": 16,
   "id": "c349668f",
   "metadata": {},
   "outputs": [],
   "source": [
    "def bucket2(a):\n",
    "    if a<=1992:\n",
    "        return 'Old1'\n",
    "    elif a>1992 and a<=1999:\n",
    "        return 'Old2'\n",
    "    elif a>1999 and a<=2008:\n",
    "        return 'Old3'\n",
    "    elif a>2008 and a<=2015:\n",
    "        return 'Old4'\n",
    "    elif a>2015:\n",
    "        return 'Old5'"
   ]
  },
  {
   "cell_type": "code",
   "execution_count": 17,
   "id": "681aedb9",
   "metadata": {},
   "outputs": [],
   "source": [
    "df.model_year = df.model_year.apply(bucket2)"
   ]
  },
  {
   "cell_type": "code",
   "execution_count": 18,
   "id": "93b00691",
   "metadata": {},
   "outputs": [],
   "source": [
    "df = pd.concat([df,pd.get_dummies(df.model_year,dtype='int')],axis=1)\n",
    "df.drop('model_year',axis=1,inplace=True)"
   ]
  },
  {
   "cell_type": "markdown",
   "id": "21048077",
   "metadata": {},
   "source": [
    "### Milage"
   ]
  },
  {
   "cell_type": "code",
   "execution_count": 19,
   "id": "157a66d2",
   "metadata": {},
   "outputs": [
    {
     "data": {
      "text/plain": [
       "milage\n",
       "60000     2182\n",
       "170000    2165\n",
       "120000    1920\n",
       "110000    1918\n",
       "130000    1634\n",
       "          ... \n",
       "70169        1\n",
       "151775       1\n",
       "87582        1\n",
       "133815       1\n",
       "21436        1\n",
       "Name: count, Length: 8440, dtype: int64"
      ]
     },
     "execution_count": 19,
     "metadata": {},
     "output_type": "execute_result"
    }
   ],
   "source": [
    "df.milage.value_counts()"
   ]
  },
  {
   "cell_type": "code",
   "execution_count": 20,
   "id": "161ebfd9",
   "metadata": {},
   "outputs": [
    {
     "data": {
      "text/plain": [
       "count    314223.000000\n",
       "mean      65840.210567\n",
       "std       49969.067924\n",
       "min         100.000000\n",
       "25%       24213.000000\n",
       "50%       57690.000000\n",
       "75%       95500.000000\n",
       "max      405000.000000\n",
       "Name: milage, dtype: float64"
      ]
     },
     "execution_count": 20,
     "metadata": {},
     "output_type": "execute_result"
    }
   ],
   "source": [
    "df.milage.describe()"
   ]
  },
  {
   "cell_type": "code",
   "execution_count": 21,
   "id": "c2c7f19e",
   "metadata": {},
   "outputs": [],
   "source": [
    "# Descile Partition\n",
    "q10 = df.milage.quantile(0.10)\n",
    "q20 = df.milage.quantile(0.20)\n",
    "q30 = df.milage.quantile(0.30)\n",
    "q40 = df.milage.quantile(0.40)\n",
    "q50 = df.milage.quantile(0.50)\n",
    "q60 = df.milage.quantile(0.60)\n",
    "q70 = df.milage.quantile(0.70)\n",
    "q80 = df.milage.quantile(0.80)\n",
    "q90 = df.milage.quantile(0.90)\n",
    "\n",
    "def bucket(a):\n",
    "    if a < q10:\n",
    "        return 'm10'\n",
    "    elif a >= q10 and a < q20:\n",
    "        return 'm20'\n",
    "    elif a >= q20 and a < q30:\n",
    "        return 'm30'\n",
    "    elif a >= q30 and a < q40:\n",
    "        return 'm40'\n",
    "    elif a >= q40 and a < q50:\n",
    "        return 'm50'\n",
    "    elif a >= q50 and a < q60:\n",
    "        return 'm60'\n",
    "    elif a >= q60 and a < q70:\n",
    "        return 'm70'\n",
    "    elif a >= q70 and a < q80:\n",
    "        return 'm80'\n",
    "    elif a >= q80 and a < q90:\n",
    "        return 'm90'\n",
    "    elif a >= q90:\n",
    "        return 'm100'"
   ]
  },
  {
   "cell_type": "code",
   "execution_count": 22,
   "id": "afcf42ef",
   "metadata": {},
   "outputs": [],
   "source": [
    "df.milage = df.milage.apply(bucket)"
   ]
  },
  {
   "cell_type": "code",
   "execution_count": 23,
   "id": "554016c3",
   "metadata": {},
   "outputs": [],
   "source": [
    "df = pd.concat([df,pd.get_dummies(df.milage,dtype='int')],axis=1)\n",
    "df.drop('milage',axis=1,inplace=True)"
   ]
  },
  {
   "cell_type": "markdown",
   "id": "c8a9b924",
   "metadata": {},
   "source": [
    "### Fuel Type"
   ]
  },
  {
   "cell_type": "code",
   "execution_count": 24,
   "id": "cbf3bfbc",
   "metadata": {
    "scrolled": false
   },
   "outputs": [
    {
     "data": {
      "text/plain": [
       "fuel_type\n",
       "Gasoline          276473\n",
       "Hybrid             11508\n",
       "E85 Flex Fuel       8929\n",
       "Diesel              6641\n",
       "–                   1319\n",
       "Plug-In Hybrid       858\n",
       "not supported         29\n",
       "Name: count, dtype: int64"
      ]
     },
     "execution_count": 24,
     "metadata": {},
     "output_type": "execute_result"
    }
   ],
   "source": [
    "df.fuel_type.value_counts()"
   ]
  },
  {
   "cell_type": "code",
   "execution_count": 25,
   "id": "4bf49849",
   "metadata": {},
   "outputs": [],
   "source": [
    "df.fuel_type.replace('–','fuel_type_Missing',inplace=True)"
   ]
  },
  {
   "cell_type": "code",
   "execution_count": 26,
   "id": "d3612fca",
   "metadata": {},
   "outputs": [],
   "source": [
    "df.fuel_type = df.fuel_type.apply(lambda x: x if isinstance(x,str) else 'fuel_type_Missing')"
   ]
  },
  {
   "cell_type": "code",
   "execution_count": 27,
   "id": "6817963b",
   "metadata": {},
   "outputs": [],
   "source": [
    "df = pd.concat([df,pd.get_dummies(df.fuel_type,dtype='int')],axis=1)\n",
    "df.drop('fuel_type',axis=1,inplace=True)"
   ]
  },
  {
   "cell_type": "markdown",
   "id": "001112ff",
   "metadata": {},
   "source": [
    "### Engine"
   ]
  },
  {
   "cell_type": "code",
   "execution_count": 28,
   "id": "db4bcc86",
   "metadata": {},
   "outputs": [
    {
     "data": {
      "text/plain": [
       "engine\n",
       "355.0HP 5.3L 8 Cylinder Engine Gasoline Fuel           5651\n",
       "240.0HP 2.0L 4 Cylinder Engine Gasoline Fuel           4868\n",
       "420.0HP 6.2L 8 Cylinder Engine Gasoline Fuel           4694\n",
       "2.0L I4 16V GDI DOHC Turbo                             4513\n",
       "375.0HP 3.5L V6 Cylinder Engine Gasoline Fuel          4090\n",
       "                                                       ... \n",
       "70.0HP 1.0L 3 Cylinder Engine Gasoline Fuel               3\n",
       "111.0HP Electric Motor Electric Fuel System               3\n",
       "139.0HP 1.6L 4 Cylinder Engine Plug-In Electric/Gas       3\n",
       "78.0HP 1.2L 3 Cylinder Engine Gasoline Fuel               2\n",
       "313.0HP 2.0L 4 Cylinder Engine Plug-In Electric/Gas       1\n",
       "Name: count, Length: 1118, dtype: int64"
      ]
     },
     "execution_count": 28,
     "metadata": {},
     "output_type": "execute_result"
    }
   ],
   "source": [
    "df.engine.value_counts()"
   ]
  },
  {
   "cell_type": "code",
   "execution_count": 29,
   "id": "a74bb557",
   "metadata": {},
   "outputs": [],
   "source": [
    "df.engine.replace('–','engine_Missing_value',inplace=True)"
   ]
  },
  {
   "cell_type": "code",
   "execution_count": 30,
   "id": "ff57cfe3",
   "metadata": {},
   "outputs": [],
   "source": [
    "engine_list = list(df.engine)\n",
    "\n",
    "d = {}\n",
    "for i in engine_list:\n",
    "    if i not in d:\n",
    "        d[i] = 1\n",
    "    else:\n",
    "        d[i]+=1"
   ]
  },
  {
   "cell_type": "code",
   "execution_count": 31,
   "id": "9fe448fc",
   "metadata": {},
   "outputs": [],
   "source": [
    "engine_value_counts = pd.DataFrame(set(df.engine.value_counts().values))[0]\n",
    "\n",
    "q10 = engine_value_counts.quantile(0.10)\n",
    "q20 = engine_value_counts.quantile(0.20)\n",
    "q30 = engine_value_counts.quantile(0.30)\n",
    "q40 = engine_value_counts.quantile(0.40)\n",
    "q50 = engine_value_counts.quantile(0.50)\n",
    "q60 = engine_value_counts.quantile(0.60)\n",
    "q70 = engine_value_counts.quantile(0.70)\n",
    "q80 = engine_value_counts.quantile(0.80)\n",
    "q90 = engine_value_counts.quantile(0.90)\n",
    "\n",
    "engines = []\n",
    "for i in engine_list:\n",
    "    if d[i] < q10:\n",
    "        engines.append('engine_1')\n",
    "    elif d[i] >= q10 and d[i] < q20:\n",
    "        engines.append('engine_2')\n",
    "    elif d[i] >= q20 and d[i] < q30:\n",
    "        engines.append('engine_3')\n",
    "    elif d[i] >= q30 and d[i] < q40:\n",
    "        engines.append('engine_4')\n",
    "    elif d[i] >= q40 and d[i] < q50:\n",
    "        engines.append('engine_5')\n",
    "    elif d[i] >= q50 and d[i] < q60:\n",
    "        engines.append('engine_6')\n",
    "    elif d[i] >= q60 and d[i] < q70:\n",
    "        engines.append('engine_7')\n",
    "    elif d[i] >= q70 and d[i] < q80:\n",
    "        engines.append('engine_8')\n",
    "    elif d[i] >= q80 and d[i] < q90:\n",
    "        engines.append('engine_9')\n",
    "    elif d[i] >= q90:\n",
    "        engines.append('engine_10')"
   ]
  },
  {
   "cell_type": "code",
   "execution_count": 32,
   "id": "d34a89e3",
   "metadata": {},
   "outputs": [],
   "source": [
    "df = pd.concat([df,pd.DataFrame(engines,columns=['engines'])],axis=1)\n",
    "df.drop('engine',axis=1,inplace=True)"
   ]
  },
  {
   "cell_type": "code",
   "execution_count": 33,
   "id": "daecb80c",
   "metadata": {},
   "outputs": [],
   "source": [
    "df = pd.concat([df,pd.get_dummies(df.engines,dtype='int')],axis=1)\n",
    "df.drop('engines',axis=1,inplace=True)"
   ]
  },
  {
   "cell_type": "markdown",
   "id": "e8164f54",
   "metadata": {},
   "source": [
    "### Transmission"
   ]
  },
  {
   "cell_type": "code",
   "execution_count": 34,
   "id": "408b2a1d",
   "metadata": {},
   "outputs": [
    {
     "data": {
      "text/plain": [
       "transmission\n",
       "A/T                                                   83036\n",
       "8-Speed A/T                                           34586\n",
       "Transmission w/Dual Shift Mode                        32079\n",
       "6-Speed A/T                                           30105\n",
       "6-Speed M/T                                           19863\n",
       "7-Speed A/T                                           18498\n",
       "Automatic                                             17866\n",
       "8-Speed Automatic                                     13977\n",
       "10-Speed A/T                                          13347\n",
       "9-Speed A/T                                            6450\n",
       "5-Speed A/T                                            5458\n",
       "10-Speed Automatic                                     5268\n",
       "6-Speed Automatic                                      4690\n",
       "4-Speed A/T                                            4212\n",
       "5-Speed M/T                                            4048\n",
       "9-Speed Automatic                                      3878\n",
       "CVT Transmission                                       3327\n",
       "1-Speed A/T                                            3160\n",
       "7-Speed Automatic with Auto-Shift                      1972\n",
       "M/T                                                    1920\n",
       "Automatic CVT                                          1370\n",
       "8-Speed Automatic with Auto-Shift                       894\n",
       "7-Speed M/T                                             635\n",
       "1-Speed Automatic                                       600\n",
       "6-Speed Manual                                          341\n",
       "5-Speed Automatic                                       290\n",
       "7-Speed Automatic                                       290\n",
       "Transmission Overdrive Switch                           280\n",
       "7-Speed Manual                                          240\n",
       "6-Speed Automatic with Auto-Shift                       173\n",
       "2                                                       155\n",
       "–                                                       127\n",
       "Variable                                                124\n",
       "2-Speed A/T                                             116\n",
       "F                                                       107\n",
       "4-Speed Automatic                                        83\n",
       "10-Speed Automatic with Overdrive                        79\n",
       "6 Speed Mt                                               66\n",
       "9-Speed Automatic with Auto-Shift                        61\n",
       "6-Speed Electronically Controlled Automatic with O       60\n",
       "8-Speed Manual                                           51\n",
       "7-Speed                                                  50\n",
       "Manual                                                   45\n",
       "6-Speed                                                  41\n",
       "2-Speed Automatic                                        35\n",
       "6 Speed At/Mt                                            34\n",
       "7-Speed DCT Automatic                                    29\n",
       "Single-Speed Fixed Gear                                  28\n",
       "CVT-F                                                    27\n",
       "8-SPEED AT                                               22\n",
       "8-SPEED A/T                                              15\n",
       "SCHEDULED FOR OR IN PRODUCTION                           15\n",
       "Name: count, dtype: int64"
      ]
     },
     "execution_count": 34,
     "metadata": {},
     "output_type": "execute_result"
    }
   ],
   "source": [
    "df.transmission.value_counts()"
   ]
  },
  {
   "cell_type": "code",
   "execution_count": 35,
   "id": "fb9a74b7",
   "metadata": {},
   "outputs": [],
   "source": [
    "df.transmission.replace('–','transmission_Missing_value',inplace=True)"
   ]
  },
  {
   "cell_type": "code",
   "execution_count": 36,
   "id": "9679fa3e",
   "metadata": {},
   "outputs": [],
   "source": [
    "transmission_list = list(df.transmission)\n",
    "\n",
    "d = {}\n",
    "for i in transmission_list:\n",
    "    if i not in d:\n",
    "        d[i] = 1\n",
    "    else:\n",
    "        d[i]+=1"
   ]
  },
  {
   "cell_type": "code",
   "execution_count": 37,
   "id": "c4b90ce5",
   "metadata": {},
   "outputs": [],
   "source": [
    "transmission_value_counts = pd.DataFrame(set(df.transmission.value_counts().values))[0]\n",
    "\n",
    "q10 = transmission_value_counts.quantile(0.10)\n",
    "q20 = transmission_value_counts.quantile(0.20)\n",
    "q30 = transmission_value_counts.quantile(0.30)\n",
    "q40 = transmission_value_counts.quantile(0.40)\n",
    "q50 = transmission_value_counts.quantile(0.50)\n",
    "q60 = transmission_value_counts.quantile(0.60)\n",
    "q70 = transmission_value_counts.quantile(0.70)\n",
    "q80 = transmission_value_counts.quantile(0.80)\n",
    "q90 = transmission_value_counts.quantile(0.90)\n",
    "\n",
    "transmissions = []\n",
    "for i in transmission_list:\n",
    "    if d[i] < q10:\n",
    "        transmissions.append('transmission_1')\n",
    "    elif d[i] >= q10 and d[i] < q20:\n",
    "        transmissions.append('transmission_2')\n",
    "    elif d[i] >= q20 and d[i] < q30:\n",
    "        transmissions.append('transmission_3')\n",
    "    elif d[i] >= q30 and d[i] < q40:\n",
    "        transmissions.append('transmission_4')\n",
    "    elif d[i] >= q40 and d[i] < q50:\n",
    "        transmissions.append('transmission_5')\n",
    "    elif d[i] >= q50 and d[i] < q60:\n",
    "        transmissions.append('transmission_6')\n",
    "    elif d[i] >= q60 and d[i] < q70:\n",
    "        transmissions.append('transmission_7')\n",
    "    elif d[i] >= q70 and d[i] < q80:\n",
    "        transmissions.append('transmission_8')\n",
    "    elif d[i] >= q80 and d[i] < q90:\n",
    "        transmissions.append('transmission_9')\n",
    "    elif d[i] >= q90:\n",
    "        transmissions.append('transmission_10')"
   ]
  },
  {
   "cell_type": "code",
   "execution_count": 38,
   "id": "2ac8945a",
   "metadata": {},
   "outputs": [],
   "source": [
    "df = pd.concat([df,pd.DataFrame(transmissions,columns=['transmissions'])],axis=1)\n",
    "df.drop('transmission',axis=1,inplace=True)"
   ]
  },
  {
   "cell_type": "code",
   "execution_count": 39,
   "id": "539b92c3",
   "metadata": {},
   "outputs": [],
   "source": [
    "df = pd.concat([df,pd.get_dummies(df.transmissions,dtype='int')],axis=1)\n",
    "df.drop('transmissions',axis=1,inplace=True)"
   ]
  },
  {
   "cell_type": "markdown",
   "id": "c13f6454",
   "metadata": {},
   "source": [
    "### Color"
   ]
  },
  {
   "cell_type": "code",
   "execution_count": 40,
   "id": "fc9426d2",
   "metadata": {},
   "outputs": [
    {
     "data": {
      "text/plain": [
       "ext_col\n",
       "Black                                 81028\n",
       "White                                 73040\n",
       "Gray                                  42193\n",
       "Silver                                28343\n",
       "Blue                                  24272\n",
       "                                      ...  \n",
       "Granite Crystal Metallic Clearcoat        8\n",
       "BLUE                                      7\n",
       "Nautical Blue Pearl                       7\n",
       "Mango Tango Pearlcoat                     5\n",
       "GT SILVER                                 5\n",
       "Name: count, Length: 319, dtype: int64"
      ]
     },
     "execution_count": 40,
     "metadata": {},
     "output_type": "execute_result"
    }
   ],
   "source": [
    "df.ext_col.value_counts()"
   ]
  },
  {
   "cell_type": "code",
   "execution_count": 41,
   "id": "c2569e56",
   "metadata": {},
   "outputs": [],
   "source": [
    "df.ext_col.replace('–','color_Missing_value',inplace=True)"
   ]
  },
  {
   "cell_type": "code",
   "execution_count": 42,
   "id": "6d3e5d5a",
   "metadata": {},
   "outputs": [],
   "source": [
    "ext_col_list = list(df.ext_col)\n",
    "\n",
    "d = {}\n",
    "for i in ext_col_list:\n",
    "    if i not in d:\n",
    "        d[i] = 1\n",
    "    else:\n",
    "        d[i]+=1"
   ]
  },
  {
   "cell_type": "code",
   "execution_count": 43,
   "id": "cdabad68",
   "metadata": {},
   "outputs": [],
   "source": [
    "ext_col_value_counts = pd.DataFrame(set(df.ext_col.value_counts().values))[0]\n",
    "\n",
    "q10 = ext_col_value_counts.quantile(0.10)\n",
    "q20 = ext_col_value_counts.quantile(0.20)\n",
    "q30 = ext_col_value_counts.quantile(0.30)\n",
    "q40 = ext_col_value_counts.quantile(0.40)\n",
    "q50 = ext_col_value_counts.quantile(0.50)\n",
    "q60 = ext_col_value_counts.quantile(0.60)\n",
    "q70 = ext_col_value_counts.quantile(0.70)\n",
    "q80 = ext_col_value_counts.quantile(0.80)\n",
    "q90 = ext_col_value_counts.quantile(0.90)\n",
    "\n",
    "ext_cols = []\n",
    "for i in ext_col_list:\n",
    "    if d[i] < q10:\n",
    "        ext_cols.append('ext_col_1')\n",
    "    elif d[i] >= q10 and d[i] < q20:\n",
    "        ext_cols.append('ext_col_2')\n",
    "    elif d[i] >= q20 and d[i] < q30:\n",
    "        ext_cols.append('ext_col_3')\n",
    "    elif d[i] >= q30 and d[i] < q40:\n",
    "        ext_cols.append('ext_col_4')\n",
    "    elif d[i] >= q40 and d[i] < q50:\n",
    "        ext_cols.append('ext_col_5')\n",
    "    elif d[i] >= q50 and d[i] < q60:\n",
    "        ext_cols.append('ext_col_6')\n",
    "    elif d[i] >= q60 and d[i] < q70:\n",
    "        ext_cols.append('ext_col_7')\n",
    "    elif d[i] >= q70 and d[i] < q80:\n",
    "        ext_cols.append('ext_col_8')\n",
    "    elif d[i] >= q80 and d[i] < q90:\n",
    "        ext_cols.append('ext_col_9')\n",
    "    elif d[i] >= q90:\n",
    "        ext_cols.append('ext_col_10')"
   ]
  },
  {
   "cell_type": "code",
   "execution_count": 44,
   "id": "548a57ad",
   "metadata": {},
   "outputs": [],
   "source": [
    "df = pd.concat([df,pd.DataFrame(ext_cols,columns=['ext_cols'])],axis=1)\n",
    "df.drop('ext_col',axis=1,inplace=True)"
   ]
  },
  {
   "cell_type": "code",
   "execution_count": 45,
   "id": "d8a1d680",
   "metadata": {},
   "outputs": [],
   "source": [
    "df = pd.concat([df,pd.get_dummies(df.ext_cols,dtype='int')],axis=1)\n",
    "df.drop('ext_cols',axis=1,inplace=True)"
   ]
  },
  {
   "cell_type": "markdown",
   "id": "08a661b3",
   "metadata": {},
   "source": [
    "### In Color"
   ]
  },
  {
   "cell_type": "code",
   "execution_count": 46,
   "id": "b6378dba",
   "metadata": {},
   "outputs": [
    {
     "data": {
      "text/plain": [
       "int_col\n",
       "Black           179287\n",
       "Beige            40990\n",
       "Gray             35381\n",
       "Brown             9721\n",
       "Red               8641\n",
       "                 ...  \n",
       "WHITE               14\n",
       "Carbon Black        12\n",
       "Bianco Polar        11\n",
       "Cobalt Blue          9\n",
       "ORANGE               6\n",
       "Name: count, Length: 156, dtype: int64"
      ]
     },
     "execution_count": 46,
     "metadata": {},
     "output_type": "execute_result"
    }
   ],
   "source": [
    "df.int_col.value_counts()"
   ]
  },
  {
   "cell_type": "code",
   "execution_count": 47,
   "id": "e42f4c59",
   "metadata": {},
   "outputs": [],
   "source": [
    "df.int_col.replace('–','int_col_Missing_value',inplace=True)"
   ]
  },
  {
   "cell_type": "code",
   "execution_count": 48,
   "id": "19da6f91",
   "metadata": {},
   "outputs": [],
   "source": [
    "int_col_list = list(df.int_col)\n",
    "\n",
    "d = {}\n",
    "for i in int_col_list:\n",
    "    if i not in d:\n",
    "        d[i] = 1\n",
    "    else:\n",
    "        d[i]+=1"
   ]
  },
  {
   "cell_type": "code",
   "execution_count": 49,
   "id": "516548da",
   "metadata": {},
   "outputs": [],
   "source": [
    "int_col_value_counts = pd.DataFrame(set(df.int_col.value_counts().values))[0]\n",
    "\n",
    "q10 = int_col_value_counts.quantile(0.10)\n",
    "q20 = int_col_value_counts.quantile(0.20)\n",
    "q30 = int_col_value_counts.quantile(0.30)\n",
    "q40 = int_col_value_counts.quantile(0.40)\n",
    "q50 = int_col_value_counts.quantile(0.50)\n",
    "q60 = int_col_value_counts.quantile(0.60)\n",
    "q70 = int_col_value_counts.quantile(0.70)\n",
    "q80 = int_col_value_counts.quantile(0.80)\n",
    "q90 = int_col_value_counts.quantile(0.90)\n",
    "\n",
    "int_cols = []\n",
    "for i in int_col_list:\n",
    "    if d[i] < q10:\n",
    "        int_cols.append('int_col_1')\n",
    "    elif d[i] >= q10 and d[i] < q20:\n",
    "        int_cols.append('int_col_2')\n",
    "    elif d[i] >= q20 and d[i] < q30:\n",
    "        int_cols.append('int_col_3')\n",
    "    elif d[i] >= q30 and d[i] < q40:\n",
    "        int_cols.append('int_col_4')\n",
    "    elif d[i] >= q40 and d[i] < q50:\n",
    "        int_cols.append('int_col_5')\n",
    "    elif d[i] >= q50 and d[i] < q60:\n",
    "        int_cols.append('int_col_6')\n",
    "    elif d[i] >= q60 and d[i] < q70:\n",
    "        int_cols.append('int_col_7')\n",
    "    elif d[i] >= q70 and d[i] < q80:\n",
    "        int_cols.append('int_col_8')\n",
    "    elif d[i] >= q80 and d[i] < q90:\n",
    "        int_cols.append('int_col_9')\n",
    "    elif d[i] >= q90:\n",
    "        int_cols.append('int_col_10')"
   ]
  },
  {
   "cell_type": "code",
   "execution_count": 50,
   "id": "d172200b",
   "metadata": {},
   "outputs": [],
   "source": [
    "df = pd.concat([df,pd.DataFrame(int_cols,columns=['int_cols'])],axis=1)\n",
    "df.drop('int_col',axis=1,inplace=True)"
   ]
  },
  {
   "cell_type": "code",
   "execution_count": 51,
   "id": "e449429d",
   "metadata": {},
   "outputs": [],
   "source": [
    "df = pd.concat([df,pd.get_dummies(df.int_cols,dtype='int')],axis=1)\n",
    "df.drop('int_cols',axis=1,inplace=True)"
   ]
  },
  {
   "cell_type": "markdown",
   "id": "6c6f9188",
   "metadata": {},
   "source": [
    "### Accident"
   ]
  },
  {
   "cell_type": "code",
   "execution_count": 52,
   "id": "d6feeeed",
   "metadata": {},
   "outputs": [
    {
     "data": {
      "text/plain": [
       "accident\n",
       "None reported                             240777\n",
       "At least 1 accident or damage reported     69362\n",
       "Name: count, dtype: int64"
      ]
     },
     "execution_count": 52,
     "metadata": {},
     "output_type": "execute_result"
    }
   ],
   "source": [
    "df.accident.value_counts()"
   ]
  },
  {
   "cell_type": "code",
   "execution_count": 53,
   "id": "ddbad745",
   "metadata": {},
   "outputs": [],
   "source": [
    "df.clean_title.fillna('accident_Missing_value',inplace=True)"
   ]
  },
  {
   "cell_type": "code",
   "execution_count": 54,
   "id": "5384dc51",
   "metadata": {},
   "outputs": [],
   "source": [
    "df = pd.concat([df,pd.get_dummies(df.accident,dtype='int')],axis=1)\n",
    "df.drop('accident',axis=1,inplace=True)"
   ]
  },
  {
   "cell_type": "markdown",
   "id": "4758d4d5",
   "metadata": {},
   "source": [
    "### Clean Title"
   ]
  },
  {
   "cell_type": "code",
   "execution_count": 55,
   "id": "c9c1bd28",
   "metadata": {},
   "outputs": [
    {
     "data": {
      "text/plain": [
       "clean_title\n",
       "Yes                       278565\n",
       "accident_Missing_value     35658\n",
       "Name: count, dtype: int64"
      ]
     },
     "execution_count": 55,
     "metadata": {},
     "output_type": "execute_result"
    }
   ],
   "source": [
    "df.clean_title.value_counts()"
   ]
  },
  {
   "cell_type": "code",
   "execution_count": 56,
   "id": "e5ce99dd",
   "metadata": {},
   "outputs": [],
   "source": [
    "df.clean_title.fillna('clean_title_Missing_value',inplace=True)"
   ]
  },
  {
   "cell_type": "code",
   "execution_count": 57,
   "id": "3ee1de56",
   "metadata": {},
   "outputs": [],
   "source": [
    "df = pd.concat([df,pd.get_dummies(df.clean_title,dtype='int')],axis=1)\n",
    "df.drop('clean_title',axis=1,inplace=True)"
   ]
  },
  {
   "cell_type": "markdown",
   "id": "a65faa9e",
   "metadata": {},
   "source": [
    "### Split back the data"
   ]
  },
  {
   "cell_type": "code",
   "execution_count": 58,
   "id": "5bac59d4",
   "metadata": {},
   "outputs": [],
   "source": [
    "train = df[~df.price.isna()]\n",
    "test = df[df.price.isna()]"
   ]
  },
  {
   "cell_type": "code",
   "execution_count": 59,
   "id": "91e90160",
   "metadata": {},
   "outputs": [],
   "source": [
    "test.drop('price',axis=1,inplace=True)"
   ]
  },
  {
   "cell_type": "markdown",
   "id": "18ce1e67",
   "metadata": {},
   "source": [
    "## Model"
   ]
  },
  {
   "cell_type": "code",
   "execution_count": 60,
   "id": "f1daef6b",
   "metadata": {},
   "outputs": [],
   "source": [
    "xtrain = train.drop('price',axis=1)\n",
    "ytrain = train['price']\n",
    "xtest = test"
   ]
  },
  {
   "cell_type": "code",
   "execution_count": 61,
   "id": "4ebf07e5",
   "metadata": {},
   "outputs": [],
   "source": [
    "from xgboost import XGBRegressor\n",
    "\n",
    "xgb = XGBRegressor()\n",
    "xgb.fit(xtrain,ytrain)\n",
    "ypred = xgb.predict(xtest)"
   ]
  },
  {
   "cell_type": "code",
   "execution_count": 62,
   "id": "002ba71c",
   "metadata": {},
   "outputs": [],
   "source": [
    "pd.concat([pd.DataFrame(test.index),pd.DataFrame(ypred,columns=['price'])],axis=1).to_csv('Final.csv',index=False)"
   ]
  }
 ],
 "metadata": {
  "kernelspec": {
   "display_name": "Python 3 (ipykernel)",
   "language": "python",
   "name": "python3"
  },
  "language_info": {
   "codemirror_mode": {
    "name": "ipython",
    "version": 3
   },
   "file_extension": ".py",
   "mimetype": "text/x-python",
   "name": "python",
   "nbconvert_exporter": "python",
   "pygments_lexer": "ipython3",
   "version": "3.11.5"
  }
 },
 "nbformat": 4,
 "nbformat_minor": 5
}
